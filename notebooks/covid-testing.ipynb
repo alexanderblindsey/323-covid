{
 "cells": [
  {
   "cell_type": "markdown",
   "metadata": {},
   "source": [
    "# US State Corona Virus Testing and Cases\n",
    "\n",
    "> **Authors**\n",
    "- [Paul Schrimpf *UBC*](https://economics.ubc.ca/faculty-and-staff/paul-schrimpf/)\n",
    "- [Peifan Wu *UBC*](https://economics.ubc.ca/faculty-and-staff/peifan-wu/)\n",
    "\n",
    "\n",
    "**Prerequisites**\n",
    "\n",
    "- [Regression](regression.ipynb)  \n",
    "- [Data Visualization: Rules and Guidelines](visualization_rules.ipynb)  \n",
    "- [Visualizing Corona Virus](covid-trends.ipynb)  \n",
    "\n",
    "\n",
    "**Outcomes**\n",
    "\n",
    "- Visualize data on Covid test numbers and results  "
   ]
  },
  {
   "cell_type": "markdown",
   "metadata": {},
   "source": [
    "## Outline\n",
    "\n",
    "- [US State Corona Virus Testing and Cases](#US-State-Corona-Virus-Testing-and-Cases)  \n",
    "  - [Introduction](#Introduction)  \n",
    "  - [Data](#Data)  \n",
    "  - [Visualizations](#Visualizations)  "
   ]
  },
  {
   "cell_type": "code",
   "execution_count": null,
   "metadata": {
    "hide-output": false
   },
   "outputs": [],
   "source": [
    "# Uncomment following line to install on colab\n",
    "#! pip install qeds fiona geopandas xgboost gensim folium pyLDAvis descartes"
   ]
  },
  {
   "cell_type": "markdown",
   "metadata": {},
   "source": [
    "## Introduction\n",
    "\n",
    "This notebook works with daily data on Covid-19 tests and results."
   ]
  },
  {
   "cell_type": "code",
   "execution_count": null,
   "metadata": {
    "hide-output": false
   },
   "outputs": [],
   "source": [
    "import pandas as pd\n",
    "import numpy as np\n",
    "import matplotlib.pyplot as plt\n",
    "from sklearn import (\n",
    "    linear_model, metrics, neural_network, pipeline, model_selection, preprocessing\n",
    ")\n",
    "\n",
    "%matplotlib inline\n",
    "# activate plot theme\n",
    "import qeds\n",
    "qeds.themes.mpl_style();"
   ]
  },
  {
   "cell_type": "markdown",
   "metadata": {},
   "source": [
    "## Data\n",
    "\n",
    "We will use data from the [Covid Tracking\n",
    "Project.](https://covidtracking.com/) This site gathers data\n",
    "on Covid-19 tests and results in the US. It has information at the\n",
    "state level. It is updated daily."
   ]
  },
  {
   "cell_type": "code",
   "execution_count": null,
   "metadata": {
    "hide-output": false
   },
   "outputs": [],
   "source": [
    "sinfo = pd.read_csv('https://covidtracking.com/api/states/info.csv')\n",
    "sdaily = pd.read_csv('https://covidtracking.com/api/states/daily.csv')\n",
    "sdaily[\"date\"] = pd.to_datetime(sdaily[\"date\"].map(str),  format=\"%Y%m%d\")"
   ]
  },
  {
   "cell_type": "markdown",
   "metadata": {},
   "source": [
    "## Visualizations\n",
    "\n",
    "Let’s see the total number of tests and their outcomes vs time."
   ]
  },
  {
   "cell_type": "code",
   "execution_count": null,
   "metadata": {
    "hide-output": false
   },
   "outputs": [],
   "source": [
    "fig, ax = plt.subplots(2,1, sharex=True)\n",
    "colors = qeds.themes.COLOR_CYCLE\n",
    "tot = sdaily.groupby(\"date\").sum()\n",
    "ax[0].plot(tot.index, tot[\"total\"], color=colors[0])\n",
    "i = round(0.7*len(tot.index))\n",
    "slope = (np.log(tot[\"total\"][i])-np.log(tot[\"total\"][0]))/i\n",
    "angle = np.tan(slope)*360/(2*np.pi)\n",
    "ax[0].annotate(\"Total\", (tot.index[i], tot[\"total\"][i]*1.05), color=colors[0], rotation=angle)\n",
    "\n",
    "ax[0].plot(tot.index, tot[\"positive\"], color=colors[1])\n",
    "i = round(0.6*len(tot.index))\n",
    "ax[0].annotate(\"Positive\", (tot.index[i], tot[\"positive\"][i]*1.05), color=colors[1], rotation=angle)\n",
    "\n",
    "ax[0].plot(tot.index, tot[\"negative\"], color=colors[2])\n",
    "i = round(0.6*len(tot.index))\n",
    "ax[0].annotate(\"Negative\", (tot.index[i], tot[\"negative\"][i]*0.94), color=colors[2], rotation=angle)\n",
    "\n",
    "ax[0].plot(tot.index, tot[\"pending\"], color=colors[3])\n",
    "i = round(0.7*len(tot.index))\n",
    "ax[0].annotate(\"Pending\", (tot.index[i], tot[\"pending\"][i]*1.05), color=colors[3],rotation=angle)\n",
    "\n",
    "ax[0].set_yscale('log')\n",
    "ax[0].set_ylabel(\"Count (log scale)\")\n",
    "\n",
    "n = tot[\"positive\"].diff()+tot[\"negative\"].diff()\n",
    "prate = tot[\"positive\"].diff()/n\n",
    "se = np.sqrt(prate*(1-prate)/n)\n",
    "ax[1].plot(tot.index, prate, color=colors[4])\n",
    "ax[1].fill_between(tot.index, prate+1.96*se, prate-1.96*se, alpha=0.2, color=colors[4])\n",
    "ax[1].set_ylabel(\"Daily positive test rate\")\n",
    "fig.suptitle(\"Covid-19 testing in the US\")\n",
    "fig.tight_layout()"
   ]
  },
  {
   "cell_type": "markdown",
   "metadata": {},
   "source": [
    "And now some state level plots."
   ]
  },
  {
   "cell_type": "code",
   "execution_count": null,
   "metadata": {
    "hide-output": false
   },
   "outputs": [],
   "source": [
    "def stateplot(focusstate, var, ax):\n",
    "    for state, _df in sdaily.groupby(\"state\"):\n",
    "        df = _df.copy()\n",
    "        df = df.set_index(\"date\").sort_index()\n",
    "        if (state==focusstate):\n",
    "            alpha = 1.0\n",
    "            color=colors[1]\n",
    "            i = round(len(df.index)*0.75)\n",
    "            ax.annotate(focusstate, (df.index[i], df[var].iloc[i]*1.05), color=color, rotation=40)\n",
    "        else:\n",
    "            alpha = 0.1\n",
    "            color=\"black\"\n",
    "        ax.plot(df.index, df[var], alpha=alpha, color=color)\n",
    "        ax.set_yscale('log')\n",
    "        ax.xaxis.set_tick_params(rotation=60)\n",
    "\n",
    "\n",
    "fig, ax = plt.subplots(3,3, sharex=True, sharey=True)\n",
    "states=list(sdaily.groupby(\"state\").max().sort_values(\"positive\").tail(9).index)\n",
    "i = 0\n",
    "for j in range(len(ax)):\n",
    "    for k in range(len(ax[j])):\n",
    "        stateplot(states[i], \"positive\", ax[j][k])\n",
    "        i = i + 1\n",
    "fig.suptitle(\"Positive Covid-19 tests by state\")\n",
    "fig.tight_layout()"
   ]
  },
  {
   "cell_type": "code",
   "execution_count": null,
   "metadata": {
    "hide-output": false
   },
   "outputs": [],
   "source": [
    "fig, ax = plt.subplots(3,3, sharex=True, sharey=True)\n",
    "states=list(sdaily.groupby(\"state\").max().sort_values(\"positive\").tail(9).index)\n",
    "i = 0\n",
    "for j in range(len(ax)):\n",
    "    for k in range(len(ax[j])):\n",
    "        stateplot(states[i], \"death\", ax[j][k])\n",
    "        i = i + 1\n",
    "fig.suptitle(\"Deaths by state\")\n",
    "fig.tight_layout()"
   ]
  },
  {
   "cell_type": "code",
   "execution_count": null,
   "metadata": {
    "hide-output": false
   },
   "outputs": [],
   "source": [
    "latest = sdaily.loc[sdaily[\"date\"]==sdaily[\"date\"].max(),:].copy()\n",
    "latest.loc[:,\"focus\"]= latest[\"state\"].map(lambda x: x in states)\n",
    "def scatterlabels(xvar, yvar, ax):\n",
    "    for f, df in latest.groupby(\"focus\"):\n",
    "        if f :\n",
    "            df.plot(xvar,yvar, kind=\"scatter\", color=colors[1], alpha=1, ax=ax)\n",
    "            for i in df.index:\n",
    "                ax.annotate(df.loc[i,\"state\"], (df.loc[i,xvar], df.loc[i,yvar]), color=colors[1])\n",
    "        else:\n",
    "            df.plot(xvar, yvar, kind=\"scatter\", color=\"black\", alpha=0.1, ax=ax)\n",
    "    return(ax)\n",
    "\n",
    "fig, ax = plt.subplots()\n",
    "ax = scatterlabels(\"total\",\"positive\",ax)\n",
    "ax.set_xlabel('total tests')\n",
    "ax.set_ylabel('positive tests')"
   ]
  },
  {
   "cell_type": "code",
   "execution_count": null,
   "metadata": {
    "hide-output": false
   },
   "outputs": [],
   "source": [
    "fig, ax = plt.subplots()\n",
    "ax = scatterlabels(\"positive\",\"death\",ax)\n",
    "ax.set_xlabel('positive tests')\n",
    "ax.set_ylabel('deaths')"
   ]
  },
  {
   "cell_type": "code",
   "execution_count": null,
   "metadata": {
    "hide-output": false
   },
   "outputs": [],
   "source": [
    "latest['prate'] = latest['positive']/(latest['positive']+latest['negative'])\n",
    "latest['prate'].hist(bins=20)\n",
    "latest.sort_values('total').tail(9)"
   ]
  }
 ],
 "metadata": {
  "date": 1586377613.5271795,
  "filename": "covid-testing.rst",
  "kernelspec": {
   "display_name": "Python",
   "language": "python3",
   "name": "python3"
  },
  "title": "US State Corona Virus Testing and Cases"
 },
 "nbformat": 4,
 "nbformat_minor": 2
}